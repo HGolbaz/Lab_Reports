{
 "cells": [
  {
   "cell_type": "code",
   "execution_count": 1,
   "id": "e9ebbad4",
   "metadata": {},
   "outputs": [],
   "source": [
    "import numpy as np\n",
    "import pandas as pd\n",
    "import matplotlib.pyplot as plt"
   ]
  },
  {
   "cell_type": "code",
   "execution_count": 2,
   "id": "1158098f",
   "metadata": {},
   "outputs": [],
   "source": [
    "def get_absorption(name):\n",
    "    df = pd.DataFrame(pd.read_csv(f'.\\\\Scan - Lambda 850 Monday, January 01, 2007 11_53 PM Pacific Standard Time\\\\{name}.Sample.Raw.csv'))\n",
    "    max_absorption = max(df[' A'])\n",
    "    \n",
    "    return max_absorption"
   ]
  },
  {
   "cell_type": "code",
   "execution_count": 3,
   "id": "0fd15499",
   "metadata": {},
   "outputs": [
    {
     "data": {
      "text/plain": [
       "array([0.091824, 0.228992, 0.691236, 0.855079, 1.074282, 0.217052,\n",
       "       0.238502, 0.490278, 0.600424, 0.956732])"
      ]
     },
     "execution_count": 3,
     "metadata": {},
     "output_type": "execute_result"
    }
   ],
   "source": [
    "names = ['0.5 ppm std', '1 ppm std', '3 ppm std', '4 ppm std ', '5 ppm std ', 'sample 1', 'sample 2', 'sample 3', 'sample 4', 'sample 5']\n",
    "\n",
    "absorption_data = np.array([get_absorption(i) for i in names])\n",
    "absorption_data"
   ]
  },
  {
   "cell_type": "code",
   "execution_count": 4,
   "id": "c55ea4a0",
   "metadata": {},
   "outputs": [],
   "source": [
    "std_data = absorption_data[:5]\n",
    "sample_data = absorption_data[5:]"
   ]
  },
  {
   "cell_type": "code",
   "execution_count": 5,
   "id": "41a692e1",
   "metadata": {},
   "outputs": [
    {
     "data": {
      "text/plain": [
       "Text(0.5, 1.0, 'Calibration Curve')"
      ]
     },
     "execution_count": 5,
     "metadata": {},
     "output_type": "execute_result"
    },
    {
     "data": {
      "image/png": "[encoded data removed]",
      "text/plain": [
       "<Figure size 640x480 with 1 Axes>"
      ]
     },
     "metadata": {},
     "output_type": "display_data"
    }
   ],
   "source": [
    "fig, ax = plt.subplots()\n",
    "\n",
    "x = np.linspace(0, 5, 1000)\n",
    "f = lambda x: a*x+b\n",
    "\n",
    "a, b = np.polyfit([0.5, 1, 3, 4, 5], std_data, 1)\n",
    "ax.scatter([0.5, 1, 3, 4, 5], std_data, marker='o', color='r')\n",
    "ax.plot(x, f(x))\n",
    "\n",
    "ax.set_ylim(0, 1.2)\n",
    "ax.grid()\n",
    "ax.set_xlabel('ppm')\n",
    "ax.set_ylabel('A')\n",
    "ax.set_title('Calibration Curve')\n",
    "# fig.show()"
   ]
  },
  {
   "cell_type": "code",
   "execution_count": 6,
   "id": "d51b79f3",
   "metadata": {
    "scrolled": true
   },
   "outputs": [
    {
     "data": {
      "text/plain": [
       "array([0.98226558, 1.08151764, 2.2465194 , 2.75617991, 4.40486543])"
      ]
     },
     "execution_count": 6,
     "metadata": {},
     "output_type": "execute_result"
    }
   ],
   "source": [
    "f_1 = lambda y: (y - b)/a\n",
    "\n",
    "C = np.array([f_1(i) for i in sample_data])\n",
    "C"
   ]
  },
  {
   "cell_type": "code",
   "execution_count": 7,
   "id": "74c92aca",
   "metadata": {},
   "outputs": [
    {
     "data": {
      "text/html": [
       "<div>\n",
       "<style scoped>\n",
       "    .dataframe tbody tr th:only-of-type {\n",
       "        vertical-align: middle;\n",
       "    }\n",
       "\n",
       "    .dataframe tbody tr th {\n",
       "        vertical-align: top;\n",
       "    }\n",
       "\n",
       "    .dataframe thead th {\n",
       "        text-align: right;\n",
       "    }\n",
       "</style>\n",
       "<table border=\"1\" class=\"dataframe\">\n",
       "  <thead>\n",
       "    <tr style=\"text-align: right;\">\n",
       "      <th></th>\n",
       "      <th>Concentration</th>\n",
       "    </tr>\n",
       "  </thead>\n",
       "  <tbody>\n",
       "    <tr>\n",
       "      <th>1</th>\n",
       "      <td>0.982266</td>\n",
       "    </tr>\n",
       "    <tr>\n",
       "      <th>2</th>\n",
       "      <td>1.081518</td>\n",
       "    </tr>\n",
       "    <tr>\n",
       "      <th>3</th>\n",
       "      <td>2.246519</td>\n",
       "    </tr>\n",
       "    <tr>\n",
       "      <th>4</th>\n",
       "      <td>2.756180</td>\n",
       "    </tr>\n",
       "    <tr>\n",
       "      <th>5</th>\n",
       "      <td>4.404865</td>\n",
       "    </tr>\n",
       "  </tbody>\n",
       "</table>\n",
       "</div>"
      ],
      "text/plain": [
       "   Concentration\n",
       "1       0.982266\n",
       "2       1.081518\n",
       "3       2.246519\n",
       "4       2.756180\n",
       "5       4.404865"
      ]
     },
     "execution_count": 7,
     "metadata": {},
     "output_type": "execute_result"
    }
   ],
   "source": [
    "result = pd.DataFrame({\n",
    "    'Concentration': C,\n",
    "})\n",
    "\n",
    "result.index = ['1', '2', '3', '4', '5']\n",
    "result"
   ]
  },
  {
   "cell_type": "code",
   "execution_count": null,
   "id": "6bf39743",
   "metadata": {},
   "outputs": [],
   "source": []
  }
 ],
 "metadata": {
  "kernelspec": {
   "display_name": "Python 3 (ipykernel)",
   "language": "python",
   "name": "python3"
  },
  "language_info": {
   "codemirror_mode": {
    "name": "ipython",
    "version": 3
   },
   "file_extension": ".py",
   "mimetype": "text/x-python",
   "name": "python",
   "nbconvert_exporter": "python",
   "pygments_lexer": "ipython3",
   "version": "3.11.5"
  }
 },
 "nbformat": 4,
 "nbformat_minor": 5
}
