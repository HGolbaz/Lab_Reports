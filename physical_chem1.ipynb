{
 "cells": [
  {
   "cell_type": "code",
   "execution_count": 1,
   "id": "8c0019ab",
   "metadata": {},
   "outputs": [],
   "source": [
    "import numpy as np\n",
    "import pandas as pd\n",
    "import matplotlib.pyplot as plt"
   ]
  },
  {
   "cell_type": "code",
   "execution_count": 2,
   "id": "8e293fe2",
   "metadata": {},
   "outputs": [],
   "source": [
    "# defining mili and micro\n",
    "\n",
    "m = pow(10, -3)\n",
    "u = pow(10, -6)"
   ]
  },
  {
   "cell_type": "code",
   "execution_count": 3,
   "id": "186e461e",
   "metadata": {},
   "outputs": [],
   "source": [
    "# cell constant\n",
    "\n",
    "S_kcl_handbook = 12.9 * m\n",
    "S_kcl = 13.5 * m\n",
    "\n",
    "cell_const = S_kcl_handbook / S_kcl"
   ]
  },
  {
   "cell_type": "code",
   "execution_count": 4,
   "id": "629fc557",
   "metadata": {},
   "outputs": [
    {
     "data": {
      "text/html": [
       "<div>\n",
       "<style scoped>\n",
       "    .dataframe tbody tr th:only-of-type {\n",
       "        vertical-align: middle;\n",
       "    }\n",
       "\n",
       "    .dataframe tbody tr th {\n",
       "        vertical-align: top;\n",
       "    }\n",
       "\n",
       "    .dataframe thead th {\n",
       "        text-align: right;\n",
       "    }\n",
       "</style>\n",
       "<table border=\"1\" class=\"dataframe\">\n",
       "  <thead>\n",
       "    <tr style=\"text-align: right;\">\n",
       "      <th></th>\n",
       "      <th>C</th>\n",
       "      <th>S</th>\n",
       "      <th>specific_S</th>\n",
       "      <th>mEq</th>\n",
       "    </tr>\n",
       "  </thead>\n",
       "  <tbody>\n",
       "    <tr>\n",
       "      <th>0</th>\n",
       "      <td>0.033333</td>\n",
       "      <td>0.01000</td>\n",
       "      <td>0.009545</td>\n",
       "      <td>286.351333</td>\n",
       "    </tr>\n",
       "    <tr>\n",
       "      <th>1</th>\n",
       "      <td>0.025000</td>\n",
       "      <td>0.00810</td>\n",
       "      <td>0.007729</td>\n",
       "      <td>309.179556</td>\n",
       "    </tr>\n",
       "    <tr>\n",
       "      <th>2</th>\n",
       "      <td>0.016667</td>\n",
       "      <td>0.00600</td>\n",
       "      <td>0.005723</td>\n",
       "      <td>343.369333</td>\n",
       "    </tr>\n",
       "    <tr>\n",
       "      <th>3</th>\n",
       "      <td>0.012500</td>\n",
       "      <td>0.00465</td>\n",
       "      <td>0.004433</td>\n",
       "      <td>354.625778</td>\n",
       "    </tr>\n",
       "  </tbody>\n",
       "</table>\n",
       "</div>"
      ],
      "text/plain": [
       "          C        S  specific_S         mEq\n",
       "0  0.033333  0.01000    0.009545  286.351333\n",
       "1  0.025000  0.00810    0.007729  309.179556\n",
       "2  0.016667  0.00600    0.005723  343.369333\n",
       "3  0.012500  0.00465    0.004433  354.625778"
      ]
     },
     "execution_count": 4,
     "metadata": {},
     "output_type": "execute_result"
    }
   ],
   "source": [
    "# HCl\n",
    "\n",
    "S_h2o = 11 * u\n",
    "\n",
    "C_hcl = np.array([0.1/i for i in [3,4,6,8]])\n",
    "\n",
    "S = np.array([10, 8.1, 6, 4.65]) * m\n",
    "\n",
    "landa = (S - S_h2o) * cell_const # specific conductance\n",
    "\n",
    "mEq = 1000 * landa / C_hcl\n",
    "\n",
    "d = {\n",
    "    'C': C_hcl,\n",
    "    'S': S,\n",
    "    'specific_S': landa,\n",
    "    'mEq': mEq,\n",
    "}\n",
    "\n",
    "data1 = pd.DataFrame(d)\n",
    "data1"
   ]
  },
  {
   "cell_type": "code",
   "execution_count": 5,
   "id": "708f1f7a",
   "metadata": {},
   "outputs": [],
   "source": [
    "coefficients = np.polyfit(np.sqrt(C_hcl), mEq, 1)\n",
    "line = np.poly1d(coefficients)\n",
    "x_intercept = -coefficients[1] / coefficients[0]"
   ]
  },
  {
   "cell_type": "code",
   "execution_count": 6,
   "id": "160c565f",
   "metadata": {
    "scrolled": true
   },
   "outputs": [
    {
     "data": {
      "image/png": "[encoded data removed]",
      "text/plain": [
       "<Figure size 640x480 with 1 Axes>"
      ]
     },
     "metadata": {},
     "output_type": "display_data"
    }
   ],
   "source": [
    "plt.plot(np.sqrt(C_hcl), mEq)\n",
    "plt.plot(np.array([0, x_intercept]), np.array([line(0), 0]), linestyle='--', color='red')\n",
    "plt.title('plot 1. HCl')\n",
    "plt.xlabel('sqrt(C)')\n",
    "plt.ylabel('mEq')\n",
    "plt.ylim([0, 500])\n",
    "plt.grid()\n",
    "plt.show()"
   ]
  },
  {
   "cell_type": "code",
   "execution_count": 7,
   "id": "14cea577",
   "metadata": {},
   "outputs": [
    {
     "data": {
      "text/plain": [
       "468.51396298506916"
      ]
     },
     "execution_count": 7,
     "metadata": {},
     "output_type": "execute_result"
    }
   ],
   "source": [
    "# limited equivalent conductance\n",
    "\n",
    "mEq_lim = coefficients[1]\n",
    "mEq_lim"
   ]
  },
  {
   "cell_type": "code",
   "execution_count": 8,
   "id": "dee0b0e7",
   "metadata": {},
   "outputs": [
    {
     "data": {
      "text/html": [
       "<div>\n",
       "<style scoped>\n",
       "    .dataframe tbody tr th:only-of-type {\n",
       "        vertical-align: middle;\n",
       "    }\n",
       "\n",
       "    .dataframe tbody tr th {\n",
       "        vertical-align: top;\n",
       "    }\n",
       "\n",
       "    .dataframe thead th {\n",
       "        text-align: right;\n",
       "    }\n",
       "</style>\n",
       "<table border=\"1\" class=\"dataframe\">\n",
       "  <thead>\n",
       "    <tr style=\"text-align: right;\">\n",
       "      <th></th>\n",
       "      <th>C</th>\n",
       "      <th>S</th>\n",
       "      <th>specific_S</th>\n",
       "      <th>mEq</th>\n",
       "      <th>degree of dissociation</th>\n",
       "      <th>k</th>\n",
       "    </tr>\n",
       "  </thead>\n",
       "  <tbody>\n",
       "    <tr>\n",
       "      <th>0</th>\n",
       "      <td>0.0008</td>\n",
       "      <td>0.000097</td>\n",
       "      <td>0.000082</td>\n",
       "      <td>102.125000</td>\n",
       "      <td>0.261189</td>\n",
       "      <td>0.000074</td>\n",
       "    </tr>\n",
       "    <tr>\n",
       "      <th>1</th>\n",
       "      <td>0.0040</td>\n",
       "      <td>0.000140</td>\n",
       "      <td>0.000123</td>\n",
       "      <td>30.816667</td>\n",
       "      <td>0.078815</td>\n",
       "      <td>0.000027</td>\n",
       "    </tr>\n",
       "    <tr>\n",
       "      <th>2</th>\n",
       "      <td>0.0200</td>\n",
       "      <td>0.000290</td>\n",
       "      <td>0.000267</td>\n",
       "      <td>13.330000</td>\n",
       "      <td>0.034092</td>\n",
       "      <td>0.000024</td>\n",
       "    </tr>\n",
       "    <tr>\n",
       "      <th>3</th>\n",
       "      <td>0.1000</td>\n",
       "      <td>0.000630</td>\n",
       "      <td>0.000591</td>\n",
       "      <td>5.914889</td>\n",
       "      <td>0.015128</td>\n",
       "      <td>0.000023</td>\n",
       "    </tr>\n",
       "  </tbody>\n",
       "</table>\n",
       "</div>"
      ],
      "text/plain": [
       "        C         S  specific_S         mEq  degree of dissociation         k\n",
       "0  0.0008  0.000097    0.000082  102.125000                0.261189  0.000074\n",
       "1  0.0040  0.000140    0.000123   30.816667                0.078815  0.000027\n",
       "2  0.0200  0.000290    0.000267   13.330000                0.034092  0.000024\n",
       "3  0.1000  0.000630    0.000591    5.914889                0.015128  0.000023"
      ]
     },
     "execution_count": 8,
     "metadata": {},
     "output_type": "execute_result"
    }
   ],
   "source": [
    "# HAc\n",
    "\n",
    "S_hac_handbook = 391 \n",
    "\n",
    "C_hac = np.array([0.0008, 0.004, 0.02, 0.1])\n",
    "\n",
    "S_hac = np.array([96.5, 140, 290, 630]) * u\n",
    "\n",
    "landa = (S_hac - S_h2o) * cell_const\n",
    "\n",
    "mEq2 = 1000 * landa / C_hac\n",
    "\n",
    "alfa = mEq2 / S_hac_handbook\n",
    "\n",
    "k = (C_hac * alfa * C_hac * alfa)/(C_hac * (1-alfa))\n",
    "\n",
    "d2 = {\n",
    "    'C': C_hac,\n",
    "    'S': S_hac,\n",
    "    'specific_S': landa,\n",
    "    'mEq': mEq2,\n",
    "    'degree of dissociation': alfa,\n",
    "    'k': k,\n",
    "}\n",
    "\n",
    "data2 = pd.DataFrame(d2)\n",
    "data2"
   ]
  },
  {
   "cell_type": "code",
   "execution_count": 9,
   "id": "2ec0cb60",
   "metadata": {},
   "outputs": [
    {
     "data": {
      "image/png": "[encoded data removed]",
      "text/plain": [
       "<Figure size 640x480 with 1 Axes>"
      ]
     },
     "metadata": {},
     "output_type": "display_data"
    }
   ],
   "source": [
    "plt.scatter(np.sqrt(C_hac), mEq2)\n",
    "plt.xlabel('sqrt(C)')\n",
    "plt.ylabel('mEq')\n",
    "plt.title('plot 2. HAc')\n",
    "plt.show()"
   ]
  },
  {
   "cell_type": "code",
   "execution_count": null,
   "id": "e023c605",
   "metadata": {},
   "outputs": [],
   "source": []
  }
 ],
 "metadata": {
  "kernelspec": {
   "display_name": "Python 3 (ipykernel)",
   "language": "python",
   "name": "python3"
  },
  "language_info": {
   "codemirror_mode": {
    "name": "ipython",
    "version": 3
   },
   "file_extension": ".py",
   "mimetype": "text/x-python",
   "name": "python",
   "nbconvert_exporter": "python",
   "pygments_lexer": "ipython3",
   "version": "3.11.5"
  }
 },
 "nbformat": 4,
 "nbformat_minor": 5
}
