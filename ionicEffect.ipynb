{
 "cells": [
  {
   "cell_type": "code",
   "execution_count": 2,
   "id": "6fe6f106",
   "metadata": {},
   "outputs": [],
   "source": [
    "import numpy as np\n",
    "import pandas as pd\n",
    "import matplotlib.pyplot as plt"
   ]
  },
  {
   "cell_type": "code",
   "execution_count": 7,
   "id": "f2ade50d",
   "metadata": {},
   "outputs": [
    {
     "data": {
      "text/html": [
       "<div>\n",
       "<style scoped>\n",
       "    .dataframe tbody tr th:only-of-type {\n",
       "        vertical-align: middle;\n",
       "    }\n",
       "\n",
       "    .dataframe tbody tr th {\n",
       "        vertical-align: top;\n",
       "    }\n",
       "\n",
       "    .dataframe thead th {\n",
       "        text-align: right;\n",
       "    }\n",
       "</style>\n",
       "<table border=\"1\" class=\"dataframe\">\n",
       "  <thead>\n",
       "    <tr style=\"text-align: right;\">\n",
       "      <th></th>\n",
       "      <th>I</th>\n",
       "      <th>sqrt_I</th>\n",
       "      <th>t</th>\n",
       "      <th>1/t</th>\n",
       "      <th>log(1/t)</th>\n",
       "    </tr>\n",
       "    <tr>\n",
       "      <th>n</th>\n",
       "      <th></th>\n",
       "      <th></th>\n",
       "      <th></th>\n",
       "      <th></th>\n",
       "      <th></th>\n",
       "    </tr>\n",
       "  </thead>\n",
       "  <tbody>\n",
       "    <tr>\n",
       "      <th>1</th>\n",
       "      <td>0.19</td>\n",
       "      <td>0.435890</td>\n",
       "      <td>213</td>\n",
       "      <td>0.004695</td>\n",
       "      <td>-2.328380</td>\n",
       "    </tr>\n",
       "    <tr>\n",
       "      <th>2</th>\n",
       "      <td>0.39</td>\n",
       "      <td>0.624500</td>\n",
       "      <td>140</td>\n",
       "      <td>0.007143</td>\n",
       "      <td>-2.146128</td>\n",
       "    </tr>\n",
       "    <tr>\n",
       "      <th>3</th>\n",
       "      <td>0.59</td>\n",
       "      <td>0.768115</td>\n",
       "      <td>127</td>\n",
       "      <td>0.007874</td>\n",
       "      <td>-2.103804</td>\n",
       "    </tr>\n",
       "    <tr>\n",
       "      <th>4</th>\n",
       "      <td>0.99</td>\n",
       "      <td>0.994987</td>\n",
       "      <td>106</td>\n",
       "      <td>0.009434</td>\n",
       "      <td>-2.025306</td>\n",
       "    </tr>\n",
       "    <tr>\n",
       "      <th>5</th>\n",
       "      <td>1.79</td>\n",
       "      <td>1.337909</td>\n",
       "      <td>96</td>\n",
       "      <td>0.010417</td>\n",
       "      <td>-1.982271</td>\n",
       "    </tr>\n",
       "    <tr>\n",
       "      <th>6</th>\n",
       "      <td>3.39</td>\n",
       "      <td>1.841195</td>\n",
       "      <td>86</td>\n",
       "      <td>0.011628</td>\n",
       "      <td>-1.934498</td>\n",
       "    </tr>\n",
       "  </tbody>\n",
       "</table>\n",
       "</div>"
      ],
      "text/plain": [
       "      I    sqrt_I    t       1/t  log(1/t)\n",
       "n                                         \n",
       "1  0.19  0.435890  213  0.004695 -2.328380\n",
       "2  0.39  0.624500  140  0.007143 -2.146128\n",
       "3  0.59  0.768115  127  0.007874 -2.103804\n",
       "4  0.99  0.994987  106  0.009434 -2.025306\n",
       "5  1.79  1.337909   96  0.010417 -1.982271\n",
       "6  3.39  1.841195   86  0.011628 -1.934498"
      ]
     },
     "execution_count": 7,
     "metadata": {},
     "output_type": "execute_result"
    }
   ],
   "source": [
    "# log(1/t) = D + 1.018 * z1 * z2 * sqrt(I)\n",
    "# I = E Ci Zi**2\n",
    "\n",
    "t = np.array([213, 140, 127, 106, 96, 86])\n",
    "n = np.arange(1, 7)\n",
    "\n",
    "I_base = 0.002 * (1 + 2**2) + 0.04 * (1 + 1) + 0.02 * (1 + 2**2)\n",
    "I = I_base + np.array([0., 0.2, 0.4, 0.8, 1.6, 3.2])\n",
    "\n",
    "sqrt_I = np.sqrt(I)\n",
    "\n",
    "i_t = 1 / t\n",
    "log_i_t = np.log10(i_t)\n",
    "\n",
    "d = {\n",
    "    'n': n,\n",
    "    'I': I,\n",
    "    'sqrt_I': sqrt_I,\n",
    "    't': t,\n",
    "    '1/t': i_t,\n",
    "    'log(1/t)': log_i_t,\n",
    "}\n",
    "\n",
    "df = pd.DataFrame(d)\n",
    "df.set_index('n', inplace=True)\n",
    "df"
   ]
  },
  {
   "cell_type": "code",
   "execution_count": 15,
   "id": "c04f6d38",
   "metadata": {},
   "outputs": [],
   "source": [
    "from scipy.stats import linregress\n",
    "line = linregress(sqrt_I, log_i_t)\n",
    "slope, b = line[0], line[1]\n",
    "f = lambda x: slope * x + b"
   ]
  },
  {
   "cell_type": "code",
   "execution_count": 18,
   "id": "8488709a",
   "metadata": {
    "scrolled": true
   },
   "outputs": [
    {
     "data": {
      "image/png": "[encoded data removed]",
      "text/plain": [
       "<Figure size 640x480 with 1 Axes>"
      ]
     },
     "metadata": {},
     "output_type": "display_data"
    }
   ],
   "source": [
    "plt.scatter(sqrt_I, log_i_t, label='Actual data', c='r')\n",
    "\n",
    "x = np.linspace(0.4, 1.8, 100)\n",
    "plt.plot(x, f(x), label='Regression line')\n",
    "plt.xlabel('sqrt(I)')\n",
    "plt.ylabel('log(1/t)')\n",
    "plt.legend()\n",
    "plt.show()"
   ]
  },
  {
   "cell_type": "code",
   "execution_count": 21,
   "id": "9194c93e",
   "metadata": {},
   "outputs": [
    {
     "name": "stdout",
     "output_type": "stream",
     "text": [
      "slope =  0.2439\n",
      "z1z2 =  0.2396\n"
     ]
    }
   ],
   "source": [
    "z1z2 = slope / 1.018\n",
    "\n",
    "print(f'slope = {slope: .4}')\n",
    "print(f'z1z2 = {z1z2: .4}')"
   ]
  }
 ],
 "metadata": {
  "kernelspec": {
   "display_name": "Python 3 (ipykernel)",
   "language": "python",
   "name": "python3"
  },
  "language_info": {
   "codemirror_mode": {
    "name": "ipython",
    "version": 3
   },
   "file_extension": ".py",
   "mimetype": "text/x-python",
   "name": "python",
   "nbconvert_exporter": "python",
   "pygments_lexer": "ipython3",
   "version": "3.11.5"
  }
 },
 "nbformat": 4,
 "nbformat_minor": 5
}
