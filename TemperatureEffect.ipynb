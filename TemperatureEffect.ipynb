{
 "cells": [
  {
   "cell_type": "code",
   "execution_count": 1,
   "id": "da47bd92",
   "metadata": {},
   "outputs": [],
   "source": [
    "import numpy as np\n",
    "import pandas as pd\n",
    "import matplotlib.pyplot as plt\n",
    "# np.set_printoptions(precision=3)\n",
    "from scipy.stats import linregress\n",
    "from scipy.optimize import curve_fit\n",
    "R = 8.3145 # j/mol.K"
   ]
  },
  {
   "cell_type": "code",
   "execution_count": 2,
   "id": "67f429a4",
   "metadata": {},
   "outputs": [
    {
     "data": {
      "text/html": [
       "<div>\n",
       "<style scoped>\n",
       "    .dataframe tbody tr th:only-of-type {\n",
       "        vertical-align: middle;\n",
       "    }\n",
       "\n",
       "    .dataframe tbody tr th {\n",
       "        vertical-align: top;\n",
       "    }\n",
       "\n",
       "    .dataframe thead th {\n",
       "        text-align: right;\n",
       "    }\n",
       "</style>\n",
       "<table border=\"1\" class=\"dataframe\">\n",
       "  <thead>\n",
       "    <tr style=\"text-align: right;\">\n",
       "      <th></th>\n",
       "      <th>T</th>\n",
       "      <th>T(K)</th>\n",
       "      <th>1/T(K)</th>\n",
       "      <th>S</th>\n",
       "      <th>log(S)</th>\n",
       "    </tr>\n",
       "    <tr>\n",
       "      <th>n</th>\n",
       "      <th></th>\n",
       "      <th></th>\n",
       "      <th></th>\n",
       "      <th></th>\n",
       "      <th></th>\n",
       "    </tr>\n",
       "  </thead>\n",
       "  <tbody>\n",
       "    <tr>\n",
       "      <th>1</th>\n",
       "      <td>30</td>\n",
       "      <td>303.15</td>\n",
       "      <td>0.003299</td>\n",
       "      <td>64</td>\n",
       "      <td>1.806180</td>\n",
       "    </tr>\n",
       "    <tr>\n",
       "      <th>2</th>\n",
       "      <td>35</td>\n",
       "      <td>308.15</td>\n",
       "      <td>0.003245</td>\n",
       "      <td>58</td>\n",
       "      <td>1.763428</td>\n",
       "    </tr>\n",
       "    <tr>\n",
       "      <th>3</th>\n",
       "      <td>40</td>\n",
       "      <td>313.15</td>\n",
       "      <td>0.003193</td>\n",
       "      <td>35</td>\n",
       "      <td>1.544068</td>\n",
       "    </tr>\n",
       "    <tr>\n",
       "      <th>4</th>\n",
       "      <td>45</td>\n",
       "      <td>318.15</td>\n",
       "      <td>0.003143</td>\n",
       "      <td>28</td>\n",
       "      <td>1.447158</td>\n",
       "    </tr>\n",
       "    <tr>\n",
       "      <th>5</th>\n",
       "      <td>50</td>\n",
       "      <td>323.15</td>\n",
       "      <td>0.003095</td>\n",
       "      <td>22</td>\n",
       "      <td>1.342423</td>\n",
       "    </tr>\n",
       "  </tbody>\n",
       "</table>\n",
       "</div>"
      ],
      "text/plain": [
       "    T    T(K)    1/T(K)   S    log(S)\n",
       "n                                    \n",
       "1  30  303.15  0.003299  64  1.806180\n",
       "2  35  308.15  0.003245  58  1.763428\n",
       "3  40  313.15  0.003193  35  1.544068\n",
       "4  45  318.15  0.003143  28  1.447158\n",
       "5  50  323.15  0.003095  22  1.342423"
      ]
     },
     "execution_count": 2,
     "metadata": {},
     "output_type": "execute_result"
    }
   ],
   "source": [
    "n = np.arange(1, 6)\n",
    "T = np.arange(30, 55, 5) # Temperature\n",
    "T_k = T + 273.15\n",
    "T_rev = 1 / T_k\n",
    "\n",
    "S = np.array([64, 58, 35, 28, 22])\n",
    "logS = np.log10(S)\n",
    "\n",
    "d = {\n",
    "    'n': n,\n",
    "    'T': T,\n",
    "    'T(K)': T_k,\n",
    "    '1/T(K)': T_rev,\n",
    "    'S': S,\n",
    "    'log(S)': logS,\n",
    "}\n",
    "\n",
    "df = pd.DataFrame(d)\n",
    "df.set_index('n')"
   ]
  },
  {
   "cell_type": "code",
   "execution_count": 3,
   "id": "e3a372a8",
   "metadata": {},
   "outputs": [
    {
     "name": "stdout",
     "output_type": "stream",
     "text": [
      "line: y = 2436.248211150287x + -6.203131108105585\n",
      "Ea = 2.23R * slope = 45171.294226088205\n"
     ]
    }
   ],
   "source": [
    "line = linregress(T_rev, logS)\n",
    "w, b = line[0], line[1]\n",
    "\n",
    "Ea = 2.23 * R * w\n",
    "print(f'line: y = {w}x + {b}')\n",
    "print(f'Ea = 2.23R * slope = {Ea}')"
   ]
  },
  {
   "cell_type": "code",
   "execution_count": 4,
   "id": "ca8c2c8b",
   "metadata": {},
   "outputs": [
    {
     "data": {
      "image/png": "[encoded data removed]",
      "text/plain": [
       "<Figure size 640x480 with 1 Axes>"
      ]
     },
     "metadata": {},
     "output_type": "display_data"
    }
   ],
   "source": [
    "plt.scatter(T_rev, logS, marker='*', c='r', label='Lab Data')\n",
    "\n",
    "x = np.linspace(0.00305, 0.00335, 200)\n",
    "plt.plot(x, w*x+b, label='Regression Line')\n",
    "plt.xlabel('1/T')\n",
    "plt.ylabel('log(S)')\n",
    "plt.xlim(0.00304, 0.00337)\n",
    "plt.legend()\n",
    "plt.show()\n",
    "# plt.savefig('p')"
   ]
  },
  {
   "cell_type": "code",
   "execution_count": 5,
   "id": "e074ee54",
   "metadata": {},
   "outputs": [
    {
     "name": "stdout",
     "output_type": "stream",
     "text": [
      "if S = 50s: T = 308.30385191028404\n",
      "if S = 15s: T = 330.14972173653223\n"
     ]
    }
   ],
   "source": [
    "def S_to_T(S):\n",
    "    return w / (np.log10(S) - b)\n",
    "\n",
    "print(f'if S = 50s: T = {S_to_T(50)}')\n",
    "print(f'if S = 15s: T = {S_to_T(15)}')"
   ]
  },
  {
   "cell_type": "code",
   "execution_count": 6,
   "id": "0ce08ae2",
   "metadata": {},
   "outputs": [
    {
     "name": "stdout",
     "output_type": "stream",
     "text": [
      "if T = 52: S = 19.478659647893085\n",
      "if T = 68: S = 8.67262308625992\n"
     ]
    }
   ],
   "source": [
    "def T_to_S(T):\n",
    "    return pow(10,((w/T) + b))\n",
    "\n",
    "print(f'if T = 52: S = {T_to_S(52+273.15)}')\n",
    "print(f'if T = 68: S = {T_to_S(68+273.15)}')"
   ]
  },
  {
   "cell_type": "code",
   "execution_count": null,
   "id": "f935a837",
   "metadata": {},
   "outputs": [],
   "source": []
  }
 ],
 "metadata": {
  "kernelspec": {
   "display_name": "Python 3 (ipykernel)",
   "language": "python",
   "name": "python3"
  },
  "language_info": {
   "codemirror_mode": {
    "name": "ipython",
    "version": 3
   },
   "file_extension": ".py",
   "mimetype": "text/x-python",
   "name": "python",
   "nbconvert_exporter": "python",
   "pygments_lexer": "ipython3",
   "version": "3.11.5"
  }
 },
 "nbformat": 4,
 "nbformat_minor": 5
}
