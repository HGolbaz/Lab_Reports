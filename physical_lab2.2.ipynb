{
 "cells": [
  {
   "cell_type": "code",
   "execution_count": 1,
   "id": "d41b1bc9",
   "metadata": {},
   "outputs": [],
   "source": [
    "import numpy as np\n",
    "import pandas as pd\n",
    "import matplotlib.pyplot as plt"
   ]
  },
  {
   "cell_type": "markdown",
   "id": "2e682e9c",
   "metadata": {},
   "source": [
    "## 1.Data"
   ]
  },
  {
   "cell_type": "code",
   "execution_count": 2,
   "id": "8553c416",
   "metadata": {},
   "outputs": [],
   "source": [
    "def ml_l(v):\n",
    "    return v/1000\n",
    "\n",
    "def print_C(c, name=''):\n",
    "    print(f'concentration of {name} = {c} mol/L')\n",
    "    \n",
    "def norm(d):\n",
    "    return np.round(d, decimals=4)"
   ]
  },
  {
   "cell_type": "code",
   "execution_count": 3,
   "id": "3755e258",
   "metadata": {},
   "outputs": [],
   "source": [
    "# m_koh = 1.418 #g\n",
    "# v_koh = 500 #ml\n",
    "# M_koh = 56.1056 #g/mol\n",
    "# c_koh = (m_koh / M_koh) / ml_l(v_koh)\n",
    "# c_koh"
   ]
  },
  {
   "cell_type": "code",
   "execution_count": 4,
   "id": "715256e0",
   "metadata": {},
   "outputs": [
    {
     "name": "stdout",
     "output_type": "stream",
     "text": [
      "concentration of KHP = 0.0499 mol/L\n"
     ]
    }
   ],
   "source": [
    "m_khp = 0.204 #g\n",
    "v_khp = 20 #ml\n",
    "M_khp = 204.22 #g/mol\n",
    "c_khp = (m_khp / M_khp) / ml_l(v_khp)\n",
    "print_C(norm(c_khp), 'KHP')"
   ]
  },
  {
   "cell_type": "code",
   "execution_count": 5,
   "id": "c1155854",
   "metadata": {},
   "outputs": [
    {
     "name": "stdout",
     "output_type": "stream",
     "text": [
      "concentration of KOH = 0.09 mol/L\n"
     ]
    }
   ],
   "source": [
    "v_koh = 11.1 #ml\n",
    "c_koh = c_khp * v_khp / v_koh\n",
    "print_C(norm(c_koh), 'KOH')"
   ]
  },
  {
   "cell_type": "code",
   "execution_count": 6,
   "id": "5ef55426",
   "metadata": {},
   "outputs": [
    {
     "name": "stdout",
     "output_type": "stream",
     "text": [
      "concentration of HAc = 0.1008 mol/L\n"
     ]
    }
   ],
   "source": [
    "# from 7th flask\n",
    "v_hac = 10 #ml\n",
    "v_koh = 11.2 #ml\n",
    "c_hac = c_koh * v_koh / v_hac\n",
    "print_C(norm(c_hac), 'HAc')"
   ]
  },
  {
   "cell_type": "markdown",
   "id": "e3c23dab",
   "metadata": {},
   "source": [
    "## 2. Calculating Data"
   ]
  },
  {
   "cell_type": "code",
   "execution_count": 7,
   "id": "e834a9e1",
   "metadata": {
    "scrolled": true
   },
   "outputs": [
    {
     "data": {
      "text/html": [
       "<div>\n",
       "<style scoped>\n",
       "    .dataframe tbody tr th:only-of-type {\n",
       "        vertical-align: middle;\n",
       "    }\n",
       "\n",
       "    .dataframe tbody tr th {\n",
       "        vertical-align: top;\n",
       "    }\n",
       "\n",
       "    .dataframe thead th {\n",
       "        text-align: right;\n",
       "    }\n",
       "</style>\n",
       "<table border=\"1\" class=\"dataframe\">\n",
       "  <thead>\n",
       "    <tr style=\"text-align: right;\">\n",
       "      <th></th>\n",
       "      <th>V of HAc</th>\n",
       "      <th>V of H2O</th>\n",
       "      <th>V of KOH</th>\n",
       "      <th>initial C of HAc</th>\n",
       "      <th>equilibrium C of HAc</th>\n",
       "      <th>N</th>\n",
       "      <th>C/N</th>\n",
       "    </tr>\n",
       "    <tr>\n",
       "      <th>Flasks</th>\n",
       "      <th></th>\n",
       "      <th></th>\n",
       "      <th></th>\n",
       "      <th></th>\n",
       "      <th></th>\n",
       "      <th></th>\n",
       "      <th></th>\n",
       "    </tr>\n",
       "  </thead>\n",
       "  <tbody>\n",
       "    <tr>\n",
       "      <th>1</th>\n",
       "      <td>100</td>\n",
       "      <td>0</td>\n",
       "      <td>8.50</td>\n",
       "      <td>0.1008</td>\n",
       "      <td>0.0765</td>\n",
       "      <td>0.0121</td>\n",
       "      <td>6.2963</td>\n",
       "    </tr>\n",
       "    <tr>\n",
       "      <th>2</th>\n",
       "      <td>80</td>\n",
       "      <td>20</td>\n",
       "      <td>6.60</td>\n",
       "      <td>0.0806</td>\n",
       "      <td>0.0594</td>\n",
       "      <td>0.0106</td>\n",
       "      <td>5.5932</td>\n",
       "    </tr>\n",
       "    <tr>\n",
       "      <th>3</th>\n",
       "      <td>60</td>\n",
       "      <td>40</td>\n",
       "      <td>4.60</td>\n",
       "      <td>0.0605</td>\n",
       "      <td>0.0414</td>\n",
       "      <td>0.0095</td>\n",
       "      <td>4.3396</td>\n",
       "    </tr>\n",
       "    <tr>\n",
       "      <th>4</th>\n",
       "      <td>40</td>\n",
       "      <td>60</td>\n",
       "      <td>2.55</td>\n",
       "      <td>0.0403</td>\n",
       "      <td>0.0229</td>\n",
       "      <td>0.0087</td>\n",
       "      <td>2.6425</td>\n",
       "    </tr>\n",
       "    <tr>\n",
       "      <th>5</th>\n",
       "      <td>20</td>\n",
       "      <td>80</td>\n",
       "      <td>0.75</td>\n",
       "      <td>0.0202</td>\n",
       "      <td>0.0067</td>\n",
       "      <td>0.0067</td>\n",
       "      <td>1.0067</td>\n",
       "    </tr>\n",
       "    <tr>\n",
       "      <th>6</th>\n",
       "      <td>10</td>\n",
       "      <td>90</td>\n",
       "      <td>0.10</td>\n",
       "      <td>0.0101</td>\n",
       "      <td>0.0009</td>\n",
       "      <td>0.0046</td>\n",
       "      <td>0.1961</td>\n",
       "    </tr>\n",
       "  </tbody>\n",
       "</table>\n",
       "</div>"
      ],
      "text/plain": [
       "        V of HAc  V of H2O  V of KOH  initial C of HAc  equilibrium C of HAc  \\\n",
       "Flasks                                                                         \n",
       "1            100         0      8.50            0.1008                0.0765   \n",
       "2             80        20      6.60            0.0806                0.0594   \n",
       "3             60        40      4.60            0.0605                0.0414   \n",
       "4             40        60      2.55            0.0403                0.0229   \n",
       "5             20        80      0.75            0.0202                0.0067   \n",
       "6             10        90      0.10            0.0101                0.0009   \n",
       "\n",
       "             N     C/N  \n",
       "Flasks                  \n",
       "1       0.0121  6.2963  \n",
       "2       0.0106  5.5932  \n",
       "3       0.0095  4.3396  \n",
       "4       0.0087  2.6425  \n",
       "5       0.0067  1.0067  \n",
       "6       0.0046  0.1961  "
      ]
     },
     "metadata": {},
     "output_type": "display_data"
    }
   ],
   "source": [
    "flasks = np.arange(1, 7)\n",
    "V = 100 #ml volume used in each flask\n",
    "\n",
    "v_hac = np.array([100, 80, 60, 40, 20, 10])\n",
    "v_h2o = V - v_hac\n",
    "v_koh = np.array([8.5, 6.6, 4.6,2.55, 0.75, 0.1]) # titration data\n",
    "c_hac_init = c_hac * v_hac / V\n",
    "c_hac_equi = c_koh * v_koh / 10\n",
    "\n",
    "# calculating N\n",
    "N = (c_hac_init - c_hac_equi) * ml_l(V) #mol absorbed in 0.2g carbon\n",
    "N = N * 5 #mol absorbed in 1g carbon\n",
    "\n",
    "cn = c_hac_equi / N\n",
    "\n",
    "d = {\n",
    "    'Flasks': flasks,\n",
    "    'V of HAc': v_hac,\n",
    "    'V of H2O': v_h2o,\n",
    "    'V of KOH': v_koh,\n",
    "    'initial C of HAc': norm(c_hac_init),\n",
    "    'equilibrium C of HAc': norm(c_hac_equi),\n",
    "    'N': norm(N),\n",
    "    'C/N': norm(cn),\n",
    "}\n",
    "\n",
    "df = pd.DataFrame(d)\n",
    "display(df.set_index('Flasks'))"
   ]
  },
  {
   "cell_type": "markdown",
   "id": "5dd57439",
   "metadata": {},
   "source": [
    "## 3.plotting number of moles absorbed(N) with respect to equilibrium concentration (C)"
   ]
  },
  {
   "cell_type": "code",
   "execution_count": 8,
   "id": "afaacf74",
   "metadata": {},
   "outputs": [
    {
     "data": {
      "image/png": "[encoded data removed]",
      "text/plain": [
       "<Figure size 640x480 with 1 Axes>"
      ]
     },
     "metadata": {},
     "output_type": "display_data"
    }
   ],
   "source": [
    "plt.plot(c_hac_equi, N)\n",
    "plt.ylabel('N')\n",
    "plt.xlabel('equilibrium C of HAc')\n",
    "plt.show()"
   ]
  },
  {
   "cell_type": "markdown",
   "id": "a3b74843",
   "metadata": {},
   "source": [
    "## 4. plotting C/N with respect to C"
   ]
  },
  {
   "cell_type": "code",
   "execution_count": 10,
   "id": "962f7f9e",
   "metadata": {},
   "outputs": [
    {
     "data": {
      "image/png": "[encoded data removed]",
      "text/plain": [
       "<Figure size 640x480 with 1 Axes>"
      ]
     },
     "metadata": {},
     "output_type": "display_data"
    }
   ],
   "source": [
    "plt.scatter(c_hac_equi, cn)\n",
    "plt.plot(c_hac_equi, np.poly1d(np.polyfit(c_hac_equi, cn, 1))(c_hac_equi), color= 'red')\n",
    "plt.ylabel('C/N')\n",
    "plt.xlabel('equilibrium C of HAc')\n",
    "plt.grid()\n",
    "plt.show()"
   ]
  },
  {
   "cell_type": "code",
   "execution_count": 11,
   "id": "550102e3",
   "metadata": {},
   "outputs": [],
   "source": [
    "slope = 81.9 # 1/Nm"
   ]
  },
  {
   "cell_type": "code",
   "execution_count": 12,
   "id": "b6569361",
   "metadata": {},
   "outputs": [
    {
     "name": "stdout",
     "output_type": "stream",
     "text": [
      "teta(active surface) = 1544.102564102564\n"
     ]
    }
   ],
   "source": [
    "# teta = Nm * N0 * sigma * pow(10, -20)\n",
    "\n",
    "Nm = 1 / slope\n",
    "N0 = 6022\n",
    "sigma = 21 #A^2\n",
    "\n",
    "teta = Nm * N0 * sigma\n",
    "print(f'teta(active surface) = {teta}') #??"
   ]
  },
  {
   "cell_type": "code",
   "execution_count": null,
   "id": "cb9a21d4",
   "metadata": {},
   "outputs": [],
   "source": []
  }
 ],
 "metadata": {
  "kernelspec": {
   "display_name": "Python 3 (ipykernel)",
   "language": "python",
   "name": "python3"
  },
  "language_info": {
   "codemirror_mode": {
    "name": "ipython",
    "version": 3
   },
   "file_extension": ".py",
   "mimetype": "text/x-python",
   "name": "python",
   "nbconvert_exporter": "python",
   "pygments_lexer": "ipython3",
   "version": "3.11.5"
  }
 },
 "nbformat": 4,
 "nbformat_minor": 5
}
