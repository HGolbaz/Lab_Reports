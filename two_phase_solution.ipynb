{
 "cells": [
  {
   "cell_type": "code",
   "execution_count": 1,
   "id": "103479cb",
   "metadata": {},
   "outputs": [],
   "source": [
    "import numpy as np\n",
    "import pandas as pd\n",
    "import matplotlib.pyplot as plt"
   ]
  },
  {
   "cell_type": "code",
   "execution_count": 2,
   "id": "4f9e0900",
   "metadata": {},
   "outputs": [
    {
     "data": {
      "text/html": [
       "<div>\n",
       "<style scoped>\n",
       "    .dataframe tbody tr th:only-of-type {\n",
       "        vertical-align: middle;\n",
       "    }\n",
       "\n",
       "    .dataframe tbody tr th {\n",
       "        vertical-align: top;\n",
       "    }\n",
       "\n",
       "    .dataframe thead th {\n",
       "        text-align: right;\n",
       "    }\n",
       "</style>\n",
       "<table border=\"1\" class=\"dataframe\">\n",
       "  <thead>\n",
       "    <tr style=\"text-align: right;\">\n",
       "      <th></th>\n",
       "      <th>Boiling Temperature</th>\n",
       "      <th>Liquid Phase(Ac)</th>\n",
       "      <th>Vapor Phase(Ac)</th>\n",
       "      <th>Refractive Index of Vapor</th>\n",
       "      <th>Refractive Index of Liquid</th>\n",
       "    </tr>\n",
       "    <tr>\n",
       "      <th>Experiment</th>\n",
       "      <th></th>\n",
       "      <th></th>\n",
       "      <th></th>\n",
       "      <th></th>\n",
       "      <th></th>\n",
       "    </tr>\n",
       "  </thead>\n",
       "  <tbody>\n",
       "    <tr>\n",
       "      <th>1</th>\n",
       "      <td>52.00</td>\n",
       "      <td>1.000000</td>\n",
       "      <td>1.000000</td>\n",
       "      <td>1.3480</td>\n",
       "      <td>1.3490</td>\n",
       "    </tr>\n",
       "    <tr>\n",
       "      <th>2</th>\n",
       "      <td>53.00</td>\n",
       "      <td>0.882353</td>\n",
       "      <td>0.935294</td>\n",
       "      <td>1.3535</td>\n",
       "      <td>1.3590</td>\n",
       "    </tr>\n",
       "    <tr>\n",
       "      <th>3</th>\n",
       "      <td>55.00</td>\n",
       "      <td>0.764706</td>\n",
       "      <td>0.876471</td>\n",
       "      <td>1.3585</td>\n",
       "      <td>1.3690</td>\n",
       "    </tr>\n",
       "    <tr>\n",
       "      <th>4</th>\n",
       "      <td>56.00</td>\n",
       "      <td>0.670588</td>\n",
       "      <td>0.811765</td>\n",
       "      <td>1.3640</td>\n",
       "      <td>1.3770</td>\n",
       "    </tr>\n",
       "    <tr>\n",
       "      <th>5</th>\n",
       "      <td>57.00</td>\n",
       "      <td>0.600000</td>\n",
       "      <td>0.741176</td>\n",
       "      <td>1.3700</td>\n",
       "      <td>1.3830</td>\n",
       "    </tr>\n",
       "    <tr>\n",
       "      <th>6</th>\n",
       "      <td>58.00</td>\n",
       "      <td>0.541176</td>\n",
       "      <td>0.658824</td>\n",
       "      <td>1.3770</td>\n",
       "      <td>1.3880</td>\n",
       "    </tr>\n",
       "    <tr>\n",
       "      <th>7</th>\n",
       "      <td>59.00</td>\n",
       "      <td>0.488235</td>\n",
       "      <td>0.564706</td>\n",
       "      <td>1.3850</td>\n",
       "      <td>1.3925</td>\n",
       "    </tr>\n",
       "    <tr>\n",
       "      <th>8</th>\n",
       "      <td>61.65</td>\n",
       "      <td>-0.000000</td>\n",
       "      <td>-0.000000</td>\n",
       "      <td>1.4330</td>\n",
       "      <td>1.4340</td>\n",
       "    </tr>\n",
       "    <tr>\n",
       "      <th>9</th>\n",
       "      <td>60.00</td>\n",
       "      <td>0.270588</td>\n",
       "      <td>0.152941</td>\n",
       "      <td>1.4200</td>\n",
       "      <td>1.4110</td>\n",
       "    </tr>\n",
       "    <tr>\n",
       "      <th>10</th>\n",
       "      <td>59.50</td>\n",
       "      <td>0.423529</td>\n",
       "      <td>0.447059</td>\n",
       "      <td>1.3950</td>\n",
       "      <td>1.3980</td>\n",
       "    </tr>\n",
       "    <tr>\n",
       "      <th>11</th>\n",
       "      <td>58.50</td>\n",
       "      <td>0.505882</td>\n",
       "      <td>0.588235</td>\n",
       "      <td>1.3830</td>\n",
       "      <td>1.3910</td>\n",
       "    </tr>\n",
       "    <tr>\n",
       "      <th>12</th>\n",
       "      <td>58.00</td>\n",
       "      <td>0.588235</td>\n",
       "      <td>0.694118</td>\n",
       "      <td>1.3740</td>\n",
       "      <td>1.3840</td>\n",
       "    </tr>\n",
       "    <tr>\n",
       "      <th>13</th>\n",
       "      <td>55.00</td>\n",
       "      <td>0.658824</td>\n",
       "      <td>0.764706</td>\n",
       "      <td>1.3680</td>\n",
       "      <td>1.3780</td>\n",
       "    </tr>\n",
       "    <tr>\n",
       "      <th>14</th>\n",
       "      <td>54.75</td>\n",
       "      <td>0.700000</td>\n",
       "      <td>0.823529</td>\n",
       "      <td>1.3630</td>\n",
       "      <td>1.3745</td>\n",
       "    </tr>\n",
       "  </tbody>\n",
       "</table>\n",
       "</div>"
      ],
      "text/plain": [
       "            Boiling Temperature  Liquid Phase(Ac)  Vapor Phase(Ac)  \\\n",
       "Experiment                                                           \n",
       "1                         52.00          1.000000         1.000000   \n",
       "2                         53.00          0.882353         0.935294   \n",
       "3                         55.00          0.764706         0.876471   \n",
       "4                         56.00          0.670588         0.811765   \n",
       "5                         57.00          0.600000         0.741176   \n",
       "6                         58.00          0.541176         0.658824   \n",
       "7                         59.00          0.488235         0.564706   \n",
       "8                         61.65         -0.000000        -0.000000   \n",
       "9                         60.00          0.270588         0.152941   \n",
       "10                        59.50          0.423529         0.447059   \n",
       "11                        58.50          0.505882         0.588235   \n",
       "12                        58.00          0.588235         0.694118   \n",
       "13                        55.00          0.658824         0.764706   \n",
       "14                        54.75          0.700000         0.823529   \n",
       "\n",
       "            Refractive Index of Vapor  Refractive Index of Liquid  \n",
       "Experiment                                                         \n",
       "1                              1.3480                      1.3490  \n",
       "2                              1.3535                      1.3590  \n",
       "3                              1.3585                      1.3690  \n",
       "4                              1.3640                      1.3770  \n",
       "5                              1.3700                      1.3830  \n",
       "6                              1.3770                      1.3880  \n",
       "7                              1.3850                      1.3925  \n",
       "8                              1.4330                      1.4340  \n",
       "9                              1.4200                      1.4110  \n",
       "10                             1.3950                      1.3980  \n",
       "11                             1.3830                      1.3910  \n",
       "12                             1.3740                      1.3840  \n",
       "13                             1.3680                      1.3780  \n",
       "14                             1.3630                      1.3745  "
      ]
     },
     "metadata": {},
     "output_type": "display_data"
    }
   ],
   "source": [
    "n = np.arange(1, 15)\n",
    "t_b = np.array([52, 53, 55, 56, 57, 58, 59, 61.65, 60, 59.5, 58.5, 58, 55, 54.75])\n",
    "# two missing values of boiling tempreture were estimated using line regression\n",
    "\n",
    "solution = np.array([(60, 0), (60, 7), (60, 14), (60, 21), (60, 28), (60, 35), (60, 42),\n",
    "                    (0, 35), (12, 35), (24, 35), (36, 35), (48, 35), (60, 35), (72, 35)])\n",
    "\n",
    "n_l = np.array([1.349, 1.359, 1.369, 1.377, 1.383, 1.388, 1.3925,\n",
    "                1.434, 1.411, 1.398, 1.391, 1.384, 1.378, 1.3745])\n",
    "\n",
    "n_v = np.array([1.348, 1.3535, 1.3585, 1.364, 1.370, 1.377, 1.385,\n",
    "                1.433, 1.420, 1.395, 1.383, 1.374, 1.368, 1.363])\n",
    "\n",
    "calc_x_ac = lambda n_mix, n_ac, n_chl: (n_mix - n_chl) / (n_ac - n_chl)\n",
    "\n",
    "x_ac_l = np.array([calc_x_ac(n_l[i], n_l[0], n_l[7]) for i in range(14)])\n",
    "x_ac_v = np.array([calc_x_ac(n_v[i], n_v[0], n_v[7]) for i in range(14)])\n",
    "\n",
    "d = {\n",
    "    'Experiment': n,\n",
    "    'Boiling Temperature': t_b,\n",
    "    'Liquid Phase(Ac)': x_ac_l,\n",
    "    'Vapor Phase(Ac)': x_ac_v,\n",
    "    'Refractive Index of Vapor': n_v,\n",
    "    'Refractive Index of Liquid': n_l,\n",
    "}\n",
    "\n",
    "df = pd.DataFrame(d)\n",
    "display(df.set_index('Experiment'))"
   ]
  },
  {
   "cell_type": "code",
   "execution_count": 3,
   "id": "21df369b",
   "metadata": {},
   "outputs": [
    {
     "name": "stdout",
     "output_type": "stream",
     "text": [
      "T_b for 35ml Chloroform:  61.65\n",
      "T_b for 35ml Chloroform + 72ml Acetone:  54.75\n"
     ]
    }
   ],
   "source": [
    "# calculating the two missing values\n",
    "d1 = np.arange(1, 6)\n",
    "d2 = np.array([60, 59.5, 58.5, 58, 55])\n",
    "\n",
    "from scipy.stats import linregress\n",
    "slope = linregress(d1, d2)[0]\n",
    "intercept = linregress(d1, d2)[1]\n",
    "line_func = lambda x: slope * x + intercept\n",
    "\n",
    "# T_b at 8th experiment\n",
    "print(f'T_b for 35ml Chloroform: {line_func(0): .2f}')\n",
    "print(f'T_b for 35ml Chloroform + 72ml Acetone: {line_func(6): .2f}')"
   ]
  },
  {
   "cell_type": "code",
   "execution_count": 4,
   "id": "f295082b",
   "metadata": {},
   "outputs": [
    {
     "data": {
      "text/plain": [
       "array([ 1.        ,  0.88235294,  0.76470588,  0.67058824,  0.6       ,\n",
       "        0.54117647,  0.48823529, -0.        ,  0.27058824,  0.42352941,\n",
       "        0.50588235,  0.58823529,  0.65882353,  0.7       ])"
      ]
     },
     "execution_count": 4,
     "metadata": {},
     "output_type": "execute_result"
    }
   ],
   "source": [
    "x_ac_l"
   ]
  },
  {
   "cell_type": "code",
   "execution_count": 5,
   "id": "746cf8f5",
   "metadata": {},
   "outputs": [
    {
     "data": {
      "image/png": "[encoded data removed]",
      "text/plain": [
       "<Figure size 640x480 with 1 Axes>"
      ]
     },
     "metadata": {},
     "output_type": "display_data"
    }
   ],
   "source": [
    "plt.scatter(x_ac_l, t_b, marker='x')\n",
    "plt.scatter(x_ac_v, t_b, marker='o')\n",
    "plt.xlim([1, 0])\n",
    "plt.xlabel('X_ac')\n",
    "plt.ylabel('T_b')\n",
    "plt.show()"
   ]
  },
  {
   "cell_type": "code",
   "execution_count": 6,
   "id": "06121968",
   "metadata": {
    "scrolled": true
   },
   "outputs": [
    {
     "name": "stderr",
     "output_type": "stream",
     "text": [
      "C:\\ProgramData\\anaconda3\\envs\\myenv\\Lib\\site-packages\\scipy\\optimize\\_minpack_py.py:1010: OptimizeWarning: Covariance of the parameters could not be estimated\n",
      "  warnings.warn('Covariance of the parameters could not be estimated',\n"
     ]
    },
    {
     "data": {
      "image/png": "[encoded data removed]",
      "text/plain": [
       "<Figure size 640x480 with 1 Axes>"
      ]
     },
     "metadata": {},
     "output_type": "display_data"
    }
   ],
   "source": [
    "x_ac_l1 = x_ac_l[:7]\n",
    "x_ac_v1 = x_ac_v[:7]\n",
    "t_b1 = t_b[:7]\n",
    "\n",
    "x_ac_l2 = x_ac_l[7:11]\n",
    "x_ac_v2 = x_ac_v[7:11]\n",
    "t_b2 = t_b[7:11]\n",
    "\n",
    "from scipy.optimize import curve_fit\n",
    "\n",
    "def f(x, A, B, C):\n",
    "    return A * (x**2) + B * x + C\n",
    "\n",
    "def g(x, A, B, C, D):\n",
    "    return A * (x**3) + B * (x**2) + C * x + D\n",
    "\n",
    "# p, covariance = curve_fit(f, x_ac_l, t_b)\n",
    "\n",
    "# p2, co2 = curve_fit(f, x_ac_v, t_b)\n",
    "\n",
    "# func_l = lambda x: p[0] * (x**2) + p[1] * x + p[2]\n",
    "# func_v = lambda x: p2[0] * (x**2) + p2[1] * x + p2[2]\n",
    "\n",
    "p, co = curve_fit(g, x_ac_l1, t_b1)\n",
    "fit_l = g(x_ac_l1, p[0], p[1], p[2], p[3])\n",
    "\n",
    "p2, co2 = curve_fit(g, x_ac_l1, t_b1)\n",
    "fit_v = g(x_ac_l1, p2[0], p2[1], p2[2], p2[3])\n",
    "\n",
    "p3, co3 = curve_fit(g, x_ac_l2, t_b2)\n",
    "fit_l2 = g(x_ac_l2, p3[0], p3[1], p3[2], p3[3])\n",
    "\n",
    "p4, co4 = curve_fit(g, x_ac_l2, t_b2)\n",
    "fit_v2 = g(x_ac_l2, p4[0], p4[1], p4[2], p4[3])\n",
    "\n",
    "plt.scatter(x_ac_l1, t_b1, marker='x')\n",
    "plt.scatter(x_ac_v1, t_b1, marker='o')\n",
    "\n",
    "plt.scatter(x_ac_l2, t_b2, marker='x')\n",
    "plt.scatter(x_ac_v2, t_b2, marker='o')\n",
    "\n",
    "plt.plot(x_ac_l1, fit_l, c='b')\n",
    "plt.plot(x_ac_v1, fit_v, c='r')\n",
    "\n",
    "plt.plot(x_ac_l2, fit_l2, c='g')\n",
    "plt.plot(x_ac_v2, fit_v2, c='m')\n",
    "\n",
    "plt.xlim([1, 0])\n",
    "plt.xlabel('X_ac')\n",
    "plt.ylabel('T_b')\n",
    "plt.show()"
   ]
  },
  {
   "cell_type": "code",
   "execution_count": 7,
   "id": "aec0f406",
   "metadata": {},
   "outputs": [
    {
     "name": "stdout",
     "output_type": "stream",
     "text": [
      "at azeotrop point \n",
      "x_ac_l:  0.4235,\n",
      "x_ac_v:  0.4471\n"
     ]
    }
   ],
   "source": [
    "print(f'at azeotrop point \\nx_ac_l: {x_ac_l[9]: .4},\\nx_ac_v: {x_ac_v[9]: .4}')"
   ]
  },
  {
   "cell_type": "code",
   "execution_count": null,
   "id": "fa05e0af",
   "metadata": {},
   "outputs": [],
   "source": []
  }
 ],
 "metadata": {
  "kernelspec": {
   "display_name": "Python 3 (ipykernel)",
   "language": "python",
   "name": "python3"
  },
  "language_info": {
   "codemirror_mode": {
    "name": "ipython",
    "version": 3
   },
   "file_extension": ".py",
   "mimetype": "text/x-python",
   "name": "python",
   "nbconvert_exporter": "python",
   "pygments_lexer": "ipython3",
   "version": "3.11.5"
  }
 },
 "nbformat": 4,
 "nbformat_minor": 5
}
